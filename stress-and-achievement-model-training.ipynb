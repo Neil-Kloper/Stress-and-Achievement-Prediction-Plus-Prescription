{
 "cells": [
  {
   "cell_type": "markdown",
   "metadata": {
    "papermill": {
     "duration": 0.019658,
     "end_time": "2021-03-15T10:10:11.683151",
     "exception": false,
     "start_time": "2021-03-15T10:10:11.663493",
     "status": "completed"
    },
    "tags": []
   },
   "source": [
    "This is the precursor notebook to https://www.kaggle.com/schorsi/stress-and-achievement-prediction-prescription this notebook features the data preprocessing, model selection, training methods used."
   ]
  },
  {
   "cell_type": "code",
   "execution_count": 1,
   "metadata": {
    "execution": {
     "iopub.execute_input": "2021-03-15T10:10:11.725833Z",
     "iopub.status.busy": "2021-03-15T10:10:11.725068Z",
     "iopub.status.idle": "2021-03-15T10:10:11.859478Z",
     "shell.execute_reply": "2021-03-15T10:10:11.858700Z"
    },
    "papermill": {
     "duration": 0.156209,
     "end_time": "2021-03-15T10:10:11.859709",
     "exception": false,
     "start_time": "2021-03-15T10:10:11.703500",
     "status": "completed"
    },
    "tags": []
   },
   "outputs": [
    {
     "data": {
      "text/html": [
       "<div>\n",
       "<style scoped>\n",
       "    .dataframe tbody tr th:only-of-type {\n",
       "        vertical-align: middle;\n",
       "    }\n",
       "\n",
       "    .dataframe tbody tr th {\n",
       "        vertical-align: top;\n",
       "    }\n",
       "\n",
       "    .dataframe thead th {\n",
       "        text-align: right;\n",
       "    }\n",
       "</style>\n",
       "<table border=\"1\" class=\"dataframe\">\n",
       "  <thead>\n",
       "    <tr style=\"text-align: right;\">\n",
       "      <th></th>\n",
       "      <th>FRUITS_VEGGIES</th>\n",
       "      <th>DAILY_STRESS</th>\n",
       "      <th>PLACES_VISITED</th>\n",
       "      <th>CORE_CIRCLE</th>\n",
       "      <th>SUPPORTING_OTHERS</th>\n",
       "      <th>SOCIAL_NETWORK</th>\n",
       "      <th>ACHIEVEMENT</th>\n",
       "      <th>DONATION</th>\n",
       "      <th>BMI_RANGE</th>\n",
       "      <th>TODO_COMPLETED</th>\n",
       "      <th>...</th>\n",
       "      <th>SLEEP_HOURS</th>\n",
       "      <th>LOST_VACATION</th>\n",
       "      <th>DAILY_SHOUTING</th>\n",
       "      <th>SUFFICIENT_INCOME</th>\n",
       "      <th>PERSONAL_AWARDS</th>\n",
       "      <th>TIME_FOR_PASSION</th>\n",
       "      <th>WEEKLY_MEDITATION</th>\n",
       "      <th>AGE</th>\n",
       "      <th>GENDER</th>\n",
       "      <th>WORK_LIFE_BALANCE_SCORE</th>\n",
       "    </tr>\n",
       "  </thead>\n",
       "  <tbody>\n",
       "    <tr>\n",
       "      <th>0</th>\n",
       "      <td>3</td>\n",
       "      <td>2</td>\n",
       "      <td>2</td>\n",
       "      <td>5</td>\n",
       "      <td>0</td>\n",
       "      <td>5</td>\n",
       "      <td>2</td>\n",
       "      <td>0</td>\n",
       "      <td>1</td>\n",
       "      <td>6</td>\n",
       "      <td>...</td>\n",
       "      <td>7</td>\n",
       "      <td>5</td>\n",
       "      <td>5</td>\n",
       "      <td>1</td>\n",
       "      <td>4</td>\n",
       "      <td>0</td>\n",
       "      <td>5</td>\n",
       "      <td>36 to 50</td>\n",
       "      <td>Female</td>\n",
       "      <td>609.5</td>\n",
       "    </tr>\n",
       "    <tr>\n",
       "      <th>1</th>\n",
       "      <td>2</td>\n",
       "      <td>3</td>\n",
       "      <td>4</td>\n",
       "      <td>3</td>\n",
       "      <td>8</td>\n",
       "      <td>10</td>\n",
       "      <td>5</td>\n",
       "      <td>2</td>\n",
       "      <td>2</td>\n",
       "      <td>5</td>\n",
       "      <td>...</td>\n",
       "      <td>8</td>\n",
       "      <td>2</td>\n",
       "      <td>2</td>\n",
       "      <td>2</td>\n",
       "      <td>3</td>\n",
       "      <td>2</td>\n",
       "      <td>6</td>\n",
       "      <td>36 to 50</td>\n",
       "      <td>Female</td>\n",
       "      <td>655.6</td>\n",
       "    </tr>\n",
       "    <tr>\n",
       "      <th>2</th>\n",
       "      <td>2</td>\n",
       "      <td>3</td>\n",
       "      <td>3</td>\n",
       "      <td>4</td>\n",
       "      <td>4</td>\n",
       "      <td>10</td>\n",
       "      <td>3</td>\n",
       "      <td>2</td>\n",
       "      <td>2</td>\n",
       "      <td>2</td>\n",
       "      <td>...</td>\n",
       "      <td>8</td>\n",
       "      <td>10</td>\n",
       "      <td>2</td>\n",
       "      <td>2</td>\n",
       "      <td>4</td>\n",
       "      <td>8</td>\n",
       "      <td>3</td>\n",
       "      <td>36 to 50</td>\n",
       "      <td>Female</td>\n",
       "      <td>631.6</td>\n",
       "    </tr>\n",
       "    <tr>\n",
       "      <th>3</th>\n",
       "      <td>3</td>\n",
       "      <td>3</td>\n",
       "      <td>10</td>\n",
       "      <td>3</td>\n",
       "      <td>10</td>\n",
       "      <td>7</td>\n",
       "      <td>2</td>\n",
       "      <td>5</td>\n",
       "      <td>2</td>\n",
       "      <td>3</td>\n",
       "      <td>...</td>\n",
       "      <td>5</td>\n",
       "      <td>7</td>\n",
       "      <td>5</td>\n",
       "      <td>1</td>\n",
       "      <td>5</td>\n",
       "      <td>2</td>\n",
       "      <td>0</td>\n",
       "      <td>51 or more</td>\n",
       "      <td>Female</td>\n",
       "      <td>622.7</td>\n",
       "    </tr>\n",
       "    <tr>\n",
       "      <th>4</th>\n",
       "      <td>5</td>\n",
       "      <td>1</td>\n",
       "      <td>3</td>\n",
       "      <td>3</td>\n",
       "      <td>10</td>\n",
       "      <td>4</td>\n",
       "      <td>2</td>\n",
       "      <td>4</td>\n",
       "      <td>2</td>\n",
       "      <td>5</td>\n",
       "      <td>...</td>\n",
       "      <td>7</td>\n",
       "      <td>0</td>\n",
       "      <td>0</td>\n",
       "      <td>2</td>\n",
       "      <td>8</td>\n",
       "      <td>1</td>\n",
       "      <td>5</td>\n",
       "      <td>51 or more</td>\n",
       "      <td>Female</td>\n",
       "      <td>663.9</td>\n",
       "    </tr>\n",
       "  </tbody>\n",
       "</table>\n",
       "<p>5 rows × 23 columns</p>\n",
       "</div>"
      ],
      "text/plain": [
       "   FRUITS_VEGGIES DAILY_STRESS  PLACES_VISITED  CORE_CIRCLE  \\\n",
       "0               3            2               2            5   \n",
       "1               2            3               4            3   \n",
       "2               2            3               3            4   \n",
       "3               3            3              10            3   \n",
       "4               5            1               3            3   \n",
       "\n",
       "   SUPPORTING_OTHERS  SOCIAL_NETWORK  ACHIEVEMENT  DONATION  BMI_RANGE  \\\n",
       "0                  0               5            2         0          1   \n",
       "1                  8              10            5         2          2   \n",
       "2                  4              10            3         2          2   \n",
       "3                 10               7            2         5          2   \n",
       "4                 10               4            2         4          2   \n",
       "\n",
       "   TODO_COMPLETED  ...  SLEEP_HOURS  LOST_VACATION  DAILY_SHOUTING  \\\n",
       "0               6  ...            7              5               5   \n",
       "1               5  ...            8              2               2   \n",
       "2               2  ...            8             10               2   \n",
       "3               3  ...            5              7               5   \n",
       "4               5  ...            7              0               0   \n",
       "\n",
       "   SUFFICIENT_INCOME  PERSONAL_AWARDS  TIME_FOR_PASSION  WEEKLY_MEDITATION  \\\n",
       "0                  1                4                 0                  5   \n",
       "1                  2                3                 2                  6   \n",
       "2                  2                4                 8                  3   \n",
       "3                  1                5                 2                  0   \n",
       "4                  2                8                 1                  5   \n",
       "\n",
       "          AGE  GENDER  WORK_LIFE_BALANCE_SCORE  \n",
       "0    36 to 50  Female                    609.5  \n",
       "1    36 to 50  Female                    655.6  \n",
       "2    36 to 50  Female                    631.6  \n",
       "3  51 or more  Female                    622.7  \n",
       "4  51 or more  Female                    663.9  \n",
       "\n",
       "[5 rows x 23 columns]"
      ]
     },
     "execution_count": 1,
     "metadata": {},
     "output_type": "execute_result"
    }
   ],
   "source": [
    "import numpy as np\n",
    "import pandas as pd\n",
    "\n",
    "wellbeing = pd.read_csv('../input/lifestyle-and-wellbeing-data/Wellbeing_and_lifestyle_data_Kaggle.csv')\n",
    "wellbeing = wellbeing.drop('Timestamp', axis=1)\n",
    "wellbeing = wellbeing.drop([10005])\n",
    "wellbeing.head()"
   ]
  },
  {
   "cell_type": "markdown",
   "metadata": {
    "papermill": {
     "duration": 0.018905,
     "end_time": "2021-03-15T10:10:11.898574",
     "exception": false,
     "start_time": "2021-03-15T10:10:11.879669",
     "status": "completed"
    },
    "tags": []
   },
   "source": [
    "### Data Preprocessing:\n",
    "Here I change all values to integer values, drop unnecessary columns, scale features, and split the data.\n",
    "\n",
    "I chose to drop 'BMI_RANGE', 'SUFFICIENT_INCOME', 'GENDER', and 'WORK_LIFE_BALANCE_SCORE' from consideration by the model; the first three contribute very little meaningful signal to the model (in fact only random forest models improve their scores when these features are added), and the fourth score is provided based on user input (including the target values) so even if a user had known the right value to put there would be data leakage. Even though these columns have been dropped I still encode them and scale them, this is to make it easier to include for later testing if needed. \n"
   ]
  },
  {
   "cell_type": "code",
   "execution_count": 2,
   "metadata": {
    "execution": {
     "iopub.execute_input": "2021-03-15T10:10:11.948611Z",
     "iopub.status.busy": "2021-03-15T10:10:11.946896Z",
     "iopub.status.idle": "2021-03-15T10:10:13.195582Z",
     "shell.execute_reply": "2021-03-15T10:10:13.196140Z"
    },
    "papermill": {
     "duration": 1.278484,
     "end_time": "2021-03-15T10:10:13.196401",
     "exception": false,
     "start_time": "2021-03-15T10:10:11.917917",
     "status": "completed"
    },
    "tags": []
   },
   "outputs": [],
   "source": [
    "from sklearn.model_selection import train_test_split\n",
    "from sklearn import metrics\n",
    "\n",
    "age_dict = {'Less than 20' : 1, '21 to 35' : 2, '36 to 50' : 3, '51 or more' : 4}\n",
    "wellbeing['AGE'] = pd.Series([age_dict[x] for x in wellbeing.AGE], index=wellbeing.index)\n",
    "gender_dict = {'Female' : 1, 'Male' : 0}\n",
    "wellbeing['GENDER'] = pd.Series([gender_dict[x] for x in wellbeing.GENDER], index=wellbeing.index)\n",
    "wellbeing['DAILY_STRESS'] = wellbeing['DAILY_STRESS'].astype(int)\n",
    "\n",
    "X = wellbeing.drop(['DAILY_STRESS', 'ACHIEVEMENT', 'BMI_RANGE', 'SUFFICIENT_INCOME', 'GENDER', 'WORK_LIFE_BALANCE_SCORE'], axis=1)\n",
    "for col in X.columns:\n",
    "    X[col] = (X[col]-X[col].mean())/X[col].std()\n",
    "y = wellbeing[['DAILY_STRESS', 'ACHIEVEMENT']]\n",
    "x_train, x_test, y_train, y_test = train_test_split(X, y, random_state = 1, test_size=.2)"
   ]
  },
  {
   "cell_type": "markdown",
   "metadata": {
    "papermill": {
     "duration": 0.01894,
     "end_time": "2021-03-15T10:10:13.235071",
     "exception": false,
     "start_time": "2021-03-15T10:10:13.216131",
     "status": "completed"
    },
    "tags": []
   },
   "source": [
    "### Model selection:\n",
    "A few different models were tested, those which are commented out didn't perform very well. Ultimately forest-based models performed the best by a small margin. I chose a neural net in the end mostly because I wanted to practice deploying one. \n"
   ]
  },
  {
   "cell_type": "code",
   "execution_count": 3,
   "metadata": {
    "execution": {
     "iopub.execute_input": "2021-03-15T10:10:13.278350Z",
     "iopub.status.busy": "2021-03-15T10:10:13.277643Z",
     "iopub.status.idle": "2021-03-15T10:10:21.073415Z",
     "shell.execute_reply": "2021-03-15T10:10:21.072803Z"
    },
    "papermill": {
     "duration": 7.818444,
     "end_time": "2021-03-15T10:10:21.073590",
     "exception": false,
     "start_time": "2021-03-15T10:10:13.255146",
     "status": "completed"
    },
    "tags": []
   },
   "outputs": [
    {
     "name": "stdout",
     "output_type": "stream",
     "text": [
      "Mean squared error stress:  1.4644580091322184\n",
      "Mean squared error achievement:  4.931072258894106\n"
     ]
    }
   ],
   "source": [
    "from sklearn.ensemble import RandomForestRegressor\n",
    "\n",
    "rfr = RandomForestRegressor()\n",
    "rfr.fit(x_train, y_train)\n",
    "preds = rfr.predict(x_test)\n",
    "print('Mean squared error stress: ', metrics.mean_squared_error(preds[:,0], y_test['DAILY_STRESS']))\n",
    "print('Mean squared error achievement: ', metrics.mean_squared_error(preds[:,1], y_test['ACHIEVEMENT']))"
   ]
  },
  {
   "cell_type": "code",
   "execution_count": 4,
   "metadata": {
    "execution": {
     "iopub.execute_input": "2021-03-15T10:10:21.120875Z",
     "iopub.status.busy": "2021-03-15T10:10:21.120139Z",
     "iopub.status.idle": "2021-03-15T10:10:21.168820Z",
     "shell.execute_reply": "2021-03-15T10:10:21.168103Z"
    },
    "papermill": {
     "duration": 0.075544,
     "end_time": "2021-03-15T10:10:21.168987",
     "exception": false,
     "start_time": "2021-03-15T10:10:21.093443",
     "status": "completed"
    },
    "tags": []
   },
   "outputs": [
    {
     "name": "stdout",
     "output_type": "stream",
     "text": [
      "FRUITS_VEGGIES : 0.03730546146156958\n",
      "PLACES_VISITED : 0.05489012349405303\n",
      "CORE_CIRCLE : 0.05368717208696381\n",
      "SUPPORTING_OTHERS : 0.06542801087657796\n",
      "SOCIAL_NETWORK : 0.04627427546571865\n",
      "DONATION : 0.03721989949938497\n",
      "TODO_COMPLETED : 0.0618167761848739\n",
      "FLOW : 0.08639834490520465\n",
      "DAILY_STEPS : 0.05288629563606017\n",
      "LIVE_VISION : 0.06834696900527758\n",
      "SLEEP_HOURS : 0.03926995676251028\n",
      "LOST_VACATION : 0.03963585070799972\n",
      "DAILY_SHOUTING : 0.05893716370961288\n",
      "PERSONAL_AWARDS : 0.13240135430028943\n",
      "TIME_FOR_PASSION : 0.08415458595444668\n",
      "WEEKLY_MEDITATION : 0.05127473024554964\n",
      "AGE : 0.030073029703907166\n"
     ]
    }
   ],
   "source": [
    "count = 0\n",
    "for feat in rfr.feature_importances_:\n",
    "    print(X.columns[count], ':', feat)\n",
    "    count+=1"
   ]
  },
  {
   "cell_type": "code",
   "execution_count": 5,
   "metadata": {
    "execution": {
     "iopub.execute_input": "2021-03-15T10:10:21.221878Z",
     "iopub.status.busy": "2021-03-15T10:10:21.221118Z",
     "iopub.status.idle": "2021-03-15T10:10:21.261737Z",
     "shell.execute_reply": "2021-03-15T10:10:21.262633Z"
    },
    "papermill": {
     "duration": 0.073477,
     "end_time": "2021-03-15T10:10:21.262957",
     "exception": false,
     "start_time": "2021-03-15T10:10:21.189480",
     "status": "completed"
    },
    "tags": []
   },
   "outputs": [
    {
     "name": "stdout",
     "output_type": "stream",
     "text": [
      "Mean squared error stress:  1.5124278706320686\n",
      "Mean squared error achievement:  5.082810186428724\n"
     ]
    }
   ],
   "source": [
    "from sklearn.linear_model import LinearRegression\n",
    "\n",
    "lr = LinearRegression()\n",
    "lr.fit(x_train, y_train)\n",
    "preds = lr.predict(x_test)\n",
    "print('Mean squared error stress: ', metrics.mean_squared_error(preds[:,0], y_test['DAILY_STRESS']))\n",
    "print('Mean squared error achievement: ', metrics.mean_squared_error(preds[:,1], y_test['ACHIEVEMENT']))"
   ]
  },
  {
   "cell_type": "code",
   "execution_count": 6,
   "metadata": {
    "execution": {
     "iopub.execute_input": "2021-03-15T10:10:21.343797Z",
     "iopub.status.busy": "2021-03-15T10:10:21.342697Z",
     "iopub.status.idle": "2021-03-15T10:10:21.345117Z",
     "shell.execute_reply": "2021-03-15T10:10:21.346136Z"
    },
    "papermill": {
     "duration": 0.046673,
     "end_time": "2021-03-15T10:10:21.346450",
     "exception": false,
     "start_time": "2021-03-15T10:10:21.299777",
     "status": "completed"
    },
    "tags": []
   },
   "outputs": [],
   "source": [
    "# from sklearn.svm import LinearSVR\n",
    "\n",
    "# svm = LinearSVR(max_iter=10000)\n",
    "# svm.fit(x_train, y_train)\n",
    "# print('Mean squared error: ', metrics.mean_squared_error(svm.predict(x_test), y_test))"
   ]
  },
  {
   "cell_type": "code",
   "execution_count": 7,
   "metadata": {
    "execution": {
     "iopub.execute_input": "2021-03-15T10:10:21.404685Z",
     "iopub.status.busy": "2021-03-15T10:10:21.403875Z",
     "iopub.status.idle": "2021-03-15T10:10:27.363761Z",
     "shell.execute_reply": "2021-03-15T10:10:27.362884Z"
    },
    "papermill": {
     "duration": 5.98924,
     "end_time": "2021-03-15T10:10:27.363997",
     "exception": false,
     "start_time": "2021-03-15T10:10:21.374757",
     "status": "completed"
    },
    "tags": []
   },
   "outputs": [
    {
     "name": "stdout",
     "output_type": "stream",
     "text": [
      "Mean squared error stress:  1.46268338028169\n",
      "Mean squared error achievement:  4.888890054773083\n"
     ]
    }
   ],
   "source": [
    "from sklearn.ensemble import ExtraTreesRegressor\n",
    "\n",
    "etr = ExtraTreesRegressor()\n",
    "etr.fit(x_train, y_train)\n",
    "preds = etr.predict(x_test)\n",
    "print('Mean squared error stress: ', metrics.mean_squared_error(preds[:,0], y_test['DAILY_STRESS']))\n",
    "print('Mean squared error achievement: ', metrics.mean_squared_error(preds[:,1], y_test['ACHIEVEMENT']))"
   ]
  },
  {
   "cell_type": "code",
   "execution_count": 8,
   "metadata": {
    "execution": {
     "iopub.execute_input": "2021-03-15T10:10:27.413035Z",
     "iopub.status.busy": "2021-03-15T10:10:27.412318Z",
     "iopub.status.idle": "2021-03-15T10:10:27.415846Z",
     "shell.execute_reply": "2021-03-15T10:10:27.416391Z"
    },
    "papermill": {
     "duration": 0.030685,
     "end_time": "2021-03-15T10:10:27.416596",
     "exception": false,
     "start_time": "2021-03-15T10:10:27.385911",
     "status": "completed"
    },
    "tags": []
   },
   "outputs": [],
   "source": [
    "# from sklearn.gaussian_process import GaussianProcessRegressor\n",
    "\n",
    "# gpr = GaussianProcessRegressor()\n",
    "# gpr.fit(x_train, y_train)\n",
    "# print('Mean squared error: ', metrics.mean_squared_error(gpr.predict(x_test), y_test))"
   ]
  },
  {
   "cell_type": "code",
   "execution_count": 9,
   "metadata": {
    "execution": {
     "iopub.execute_input": "2021-03-15T10:10:27.472375Z",
     "iopub.status.busy": "2021-03-15T10:10:27.468456Z",
     "iopub.status.idle": "2021-03-15T10:10:28.873836Z",
     "shell.execute_reply": "2021-03-15T10:10:28.874409Z"
    },
    "papermill": {
     "duration": 1.436669,
     "end_time": "2021-03-15T10:10:28.874636",
     "exception": false,
     "start_time": "2021-03-15T10:10:27.437967",
     "status": "completed"
    },
    "tags": []
   },
   "outputs": [
    {
     "name": "stdout",
     "output_type": "stream",
     "text": [
      "Mean squared error stress:  1.7745852895148668\n",
      "Mean squared error achievement:  5.950622848200313\n"
     ]
    }
   ],
   "source": [
    "from sklearn.neighbors import KNeighborsRegressor\n",
    "\n",
    "knn = KNeighborsRegressor()\n",
    "knn.fit(x_train, y_train)\n",
    "preds = knn.predict(x_test)\n",
    "print('Mean squared error stress: ', metrics.mean_squared_error(preds[:,0], y_test['DAILY_STRESS']))\n",
    "print('Mean squared error achievement: ', metrics.mean_squared_error(preds[:,1], y_test['ACHIEVEMENT']))"
   ]
  },
  {
   "cell_type": "code",
   "execution_count": 10,
   "metadata": {
    "execution": {
     "iopub.execute_input": "2021-03-15T10:10:28.923921Z",
     "iopub.status.busy": "2021-03-15T10:10:28.923232Z",
     "iopub.status.idle": "2021-03-15T10:10:28.925698Z",
     "shell.execute_reply": "2021-03-15T10:10:28.926177Z"
    },
    "papermill": {
     "duration": 0.029618,
     "end_time": "2021-03-15T10:10:28.926444",
     "exception": false,
     "start_time": "2021-03-15T10:10:28.896826",
     "status": "completed"
    },
    "tags": []
   },
   "outputs": [],
   "source": [
    "# from sklearn.ensemble import GradientBoostingRegressor\n",
    "\n",
    "# gbr = GradientBoostingRegressor()\n",
    "# gbr.fit(x_train, y_train)\n",
    "# print('Mean squared error: ', metrics.mean_squared_error(gbr.predict(x_test), y_test))"
   ]
  },
  {
   "cell_type": "code",
   "execution_count": 11,
   "metadata": {
    "execution": {
     "iopub.execute_input": "2021-03-15T10:10:28.973628Z",
     "iopub.status.busy": "2021-03-15T10:10:28.972829Z",
     "iopub.status.idle": "2021-03-15T10:10:28.976024Z",
     "shell.execute_reply": "2021-03-15T10:10:28.976509Z"
    },
    "papermill": {
     "duration": 0.02838,
     "end_time": "2021-03-15T10:10:28.976695",
     "exception": false,
     "start_time": "2021-03-15T10:10:28.948315",
     "status": "completed"
    },
    "tags": []
   },
   "outputs": [],
   "source": [
    "# from sklearn.experimental import enable_hist_gradient_boosting\n",
    "# from sklearn.ensemble import HistGradientBoostingRegressor\n",
    "\n",
    "# hgb = HistGradientBoostingRegressor()\n",
    "# hgb.fit(x_train, y_train)\n",
    "# print('Mean squared error: ', metrics.mean_squared_error(hgb.predict(x_test), y_test))"
   ]
  },
  {
   "cell_type": "markdown",
   "metadata": {
    "papermill": {
     "duration": 0.021783,
     "end_time": "2021-03-15T10:10:29.023062",
     "exception": false,
     "start_time": "2021-03-15T10:10:29.001279",
     "status": "completed"
    },
    "tags": []
   },
   "source": [
    "Below I create and train a neural net using keras."
   ]
  },
  {
   "cell_type": "code",
   "execution_count": 12,
   "metadata": {
    "execution": {
     "iopub.execute_input": "2021-03-15T10:10:29.074326Z",
     "iopub.status.busy": "2021-03-15T10:10:29.073509Z",
     "iopub.status.idle": "2021-03-15T10:10:35.725123Z",
     "shell.execute_reply": "2021-03-15T10:10:35.724449Z"
    },
    "papermill": {
     "duration": 6.680029,
     "end_time": "2021-03-15T10:10:35.725325",
     "exception": false,
     "start_time": "2021-03-15T10:10:29.045296",
     "status": "completed"
    },
    "tags": []
   },
   "outputs": [],
   "source": [
    "import tensorflow as tf\n",
    "from tensorflow import keras\n",
    "from tensorflow.keras import layers, callbacks, initializers"
   ]
  },
  {
   "cell_type": "code",
   "execution_count": 13,
   "metadata": {
    "execution": {
     "iopub.execute_input": "2021-03-15T10:10:35.781081Z",
     "iopub.status.busy": "2021-03-15T10:10:35.780025Z",
     "iopub.status.idle": "2021-03-15T10:10:35.862460Z",
     "shell.execute_reply": "2021-03-15T10:10:35.861510Z"
    },
    "papermill": {
     "duration": 0.114706,
     "end_time": "2021-03-15T10:10:35.862723",
     "exception": false,
     "start_time": "2021-03-15T10:10:35.748017",
     "status": "completed"
    },
    "tags": []
   },
   "outputs": [],
   "source": [
    "model = keras.Sequential([\n",
    "    layers.Dense(units=34, activation='relu'),\n",
    "    layers.BatchNormalization(),\n",
    "    layers.GaussianNoise(.2),\n",
    "    layers.Dense(units=10, activation='relu'),\n",
    "    layers.GaussianNoise(.2),\n",
    "    layers.Dense(units=10, activation='relu'),\n",
    "    layers.Dense(units=2)\n",
    "])\n",
    "\n",
    "model.compile(optimizer='Adam', loss='mean_squared_error', metrics=['mean_squared_error'])"
   ]
  },
  {
   "cell_type": "code",
   "execution_count": 14,
   "metadata": {
    "execution": {
     "iopub.execute_input": "2021-03-15T10:10:35.925321Z",
     "iopub.status.busy": "2021-03-15T10:10:35.924537Z",
     "iopub.status.idle": "2021-03-15T10:10:50.201640Z",
     "shell.execute_reply": "2021-03-15T10:10:50.200545Z"
    },
    "papermill": {
     "duration": 14.311282,
     "end_time": "2021-03-15T10:10:50.201900",
     "exception": false,
     "start_time": "2021-03-15T10:10:35.890618",
     "status": "completed"
    },
    "tags": []
   },
   "outputs": [
    {
     "name": "stdout",
     "output_type": "stream",
     "text": [
      "Epoch 1/30\n",
      "250/250 [==============================] - 1s 2ms/step - loss: 10.1436 - mean_squared_error: 10.1436\n",
      "Epoch 2/30\n",
      "250/250 [==============================] - 0s 2ms/step - loss: 3.7247 - mean_squared_error: 3.7247\n",
      "Epoch 3/30\n",
      "250/250 [==============================] - 0s 2ms/step - loss: 3.5943 - mean_squared_error: 3.5943\n",
      "Epoch 4/30\n",
      "250/250 [==============================] - 0s 2ms/step - loss: 3.4645 - mean_squared_error: 3.4645\n",
      "Epoch 5/30\n",
      "250/250 [==============================] - 0s 2ms/step - loss: 3.4224 - mean_squared_error: 3.4224\n",
      "Epoch 6/30\n",
      "250/250 [==============================] - 0s 2ms/step - loss: 3.4263 - mean_squared_error: 3.4263\n",
      "Epoch 7/30\n",
      "250/250 [==============================] - 0s 2ms/step - loss: 3.3768 - mean_squared_error: 3.3768\n",
      "Epoch 8/30\n",
      "250/250 [==============================] - 0s 2ms/step - loss: 3.3224 - mean_squared_error: 3.3224\n",
      "Epoch 9/30\n",
      "250/250 [==============================] - 0s 2ms/step - loss: 3.3466 - mean_squared_error: 3.3466\n",
      "Epoch 10/30\n",
      "250/250 [==============================] - 0s 2ms/step - loss: 3.3131 - mean_squared_error: 3.3131\n",
      "Epoch 11/30\n",
      "250/250 [==============================] - 0s 2ms/step - loss: 3.3220 - mean_squared_error: 3.3220\n",
      "Epoch 12/30\n",
      "250/250 [==============================] - 0s 2ms/step - loss: 3.3043 - mean_squared_error: 3.3043\n",
      "Epoch 13/30\n",
      "250/250 [==============================] - 0s 2ms/step - loss: 3.2955 - mean_squared_error: 3.2955\n",
      "Epoch 14/30\n",
      "250/250 [==============================] - 0s 2ms/step - loss: 3.2387 - mean_squared_error: 3.2387\n",
      "Epoch 15/30\n",
      "250/250 [==============================] - 0s 2ms/step - loss: 3.3007 - mean_squared_error: 3.3007\n",
      "Epoch 16/30\n",
      "250/250 [==============================] - 0s 2ms/step - loss: 3.2768 - mean_squared_error: 3.2768\n",
      "Epoch 17/30\n",
      "250/250 [==============================] - 0s 2ms/step - loss: 3.3092 - mean_squared_error: 3.3092\n",
      "Epoch 18/30\n",
      "250/250 [==============================] - 0s 2ms/step - loss: 3.3090 - mean_squared_error: 3.3090\n",
      "Epoch 19/30\n",
      "250/250 [==============================] - 0s 2ms/step - loss: 3.2789 - mean_squared_error: 3.2789\n",
      "Epoch 20/30\n",
      "250/250 [==============================] - 0s 2ms/step - loss: 3.3126 - mean_squared_error: 3.3126\n",
      "Epoch 21/30\n",
      "250/250 [==============================] - 0s 2ms/step - loss: 3.2702 - mean_squared_error: 3.2702\n",
      "Epoch 22/30\n",
      "250/250 [==============================] - 0s 2ms/step - loss: 3.3190 - mean_squared_error: 3.3190\n",
      "Epoch 23/30\n",
      "250/250 [==============================] - 0s 2ms/step - loss: 3.3064 - mean_squared_error: 3.3064\n",
      "Epoch 24/30\n",
      "250/250 [==============================] - 0s 2ms/step - loss: 3.2863 - mean_squared_error: 3.2863\n",
      "Epoch 25/30\n",
      "250/250 [==============================] - 0s 2ms/step - loss: 3.2855 - mean_squared_error: 3.2855\n",
      "Epoch 26/30\n",
      "250/250 [==============================] - 0s 2ms/step - loss: 3.2233 - mean_squared_error: 3.2233\n",
      "Epoch 27/30\n",
      "250/250 [==============================] - 0s 2ms/step - loss: 3.2495 - mean_squared_error: 3.2495\n",
      "Epoch 28/30\n",
      "250/250 [==============================] - 0s 2ms/step - loss: 3.2486 - mean_squared_error: 3.2486\n",
      "Epoch 29/30\n",
      "250/250 [==============================] - 0s 2ms/step - loss: 3.2556 - mean_squared_error: 3.2556\n",
      "Epoch 30/30\n",
      "250/250 [==============================] - 0s 2ms/step - loss: 3.2879 - mean_squared_error: 3.2879\n"
     ]
    }
   ],
   "source": [
    "def learn_scheduler(epoch, lr):\n",
    "    if epoch <2:\n",
    "        return 0.001\n",
    "    else:\n",
    "        return lr*.9\n",
    "schedule = callbacks.LearningRateScheduler(learn_scheduler)\n",
    "    \n",
    "early_stopping = keras.callbacks.EarlyStopping(\n",
    "    patience=20,\n",
    "    min_delta=0.01,\n",
    "    restore_best_weights=True,\n",
    ")\n",
    "\n",
    "history = model.fit(\n",
    "    X, y,                               # Comment out this line when testing\n",
    "#     x_train, y_train,                 # Comment out these lines when producing the final model\n",
    "#     validation_data=(x_test, y_test), # Comment out these lines when producing the final model\n",
    "    batch_size=64,\n",
    "    epochs=30,\n",
    "    callbacks=[early_stopping, schedule])"
   ]
  },
  {
   "cell_type": "markdown",
   "metadata": {
    "papermill": {
     "duration": 0.112649,
     "end_time": "2021-03-15T10:10:50.428607",
     "exception": false,
     "start_time": "2021-03-15T10:10:50.315958",
     "status": "completed"
    },
    "tags": []
   },
   "source": [
    "The error for predicting achievement is still higher than I would like, I plan to revisit this a few times and see if I can make some improvements."
   ]
  },
  {
   "cell_type": "code",
   "execution_count": 15,
   "metadata": {
    "execution": {
     "iopub.execute_input": "2021-03-15T10:10:50.661499Z",
     "iopub.status.busy": "2021-03-15T10:10:50.660711Z",
     "iopub.status.idle": "2021-03-15T10:10:50.914723Z",
     "shell.execute_reply": "2021-03-15T10:10:50.913243Z"
    },
    "papermill": {
     "duration": 0.37399,
     "end_time": "2021-03-15T10:10:50.914908",
     "exception": false,
     "start_time": "2021-03-15T10:10:50.540918",
     "status": "completed"
    },
    "tags": []
   },
   "outputs": [
    {
     "name": "stdout",
     "output_type": "stream",
     "text": [
      "Mean squared error stress:  1.5299365506138674\n",
      "Mean absolute error stress:  1.0089473485946656\n",
      "Mean squared error achievement:  4.908206464547079\n",
      "Mean absolute error achievement:  1.749875707227113\n"
     ]
    }
   ],
   "source": [
    "preds = model.predict(x_test)\n",
    "print('Mean squared error stress: ', metrics.mean_squared_error(preds[:,0], y_test['DAILY_STRESS']))\n",
    "print('Mean absolute error stress: ', metrics.mean_absolute_error(preds[:,0], y_test['DAILY_STRESS']))\n",
    "print('Mean squared error achievement: ', metrics.mean_squared_error(preds[:,1], y_test['ACHIEVEMENT']))\n",
    "print('Mean absolute error achievement: ', metrics.mean_absolute_error(preds[:,1], y_test['ACHIEVEMENT']))"
   ]
  },
  {
   "cell_type": "markdown",
   "metadata": {
    "papermill": {
     "duration": 0.114675,
     "end_time": "2021-03-15T10:10:51.142920",
     "exception": false,
     "start_time": "2021-03-15T10:10:51.028245",
     "status": "completed"
    },
    "tags": []
   },
   "source": [
    "Below I created a dictionary that stores descriptions for each column, a sort of dataframe schema. I also created a stats dictionary for feature scaling. Both dictionaries will be exported for the inference/prescription notebook. "
   ]
  },
  {
   "cell_type": "code",
   "execution_count": 16,
   "metadata": {
    "execution": {
     "iopub.execute_input": "2021-03-15T10:10:51.379317Z",
     "iopub.status.busy": "2021-03-15T10:10:51.378099Z",
     "iopub.status.idle": "2021-03-15T10:10:51.382220Z",
     "shell.execute_reply": "2021-03-15T10:10:51.381575Z"
    },
    "papermill": {
     "duration": 0.125845,
     "end_time": "2021-03-15T10:10:51.382382",
     "exception": false,
     "start_time": "2021-03-15T10:10:51.256537",
     "status": "completed"
    },
    "tags": []
   },
   "outputs": [],
   "source": [
    "wellbeing_dict = {\n",
    "     'FRUITS_VEGGIES' : '[Between 1 and 5] HOW MANY FRUITS OR VEGETABLES DO YOU EAT EVERYDAY? In a typical day, averaging workdays and weekends.',\n",
    "     'DAILY_STRESS' : '[Between 1 and 10] HOW MUCH STRESS DO YOU TYPICALLY EXPERIENCE EVERYDAY? At work or at home, due to the environment (noise, pollution, insecurity...), your co-workers or boss, or because of tragic events such as divorce, job loss, serious illness, loss of family or friends,... In average over 12 months.',\n",
    "     'PLACES_VISITED' : '[Between 0 and 10] HOW MANY NEW PLACES DO YOU VISIT? Over a period of 12 months. Include new states, new cities as well as museum, places of interest and parks in your neighborhood.',\n",
    "     'CORE_CIRCLE' : '[Between 0 and 10] HOW MANY PEOPLE ARE VERY CLOSE TO YOU? i.e. close family and friends ready to provide you with a long-term unconditional support.',\n",
    "     'SUPPORTING_OTHERS' : '[Between 0 and 10] HOW MANY PEOPLE DO YOU HELP ACHIEVE A BETTER LIFE? A reflection of your altruism or selflessness  e.g.: caring for your family, actively supporting a friend, mentoring, coaching, developing or promoting a co-worker, ... Over a period of 12 months.',\n",
    "     'SOCIAL_NETWORK' : '[Between 0 and 10] WITH HOW MANY PEOPLE DO YOU INTERACT WITH DURING A TYPICAL DAY? True interactions and dialogues at home, at work, at the gym, ... Average of workdays and weekends',\n",
    "     'ACHIEVEMENT' : '[Between 0 and 10] HOW MANY REMARKABLE ACHIEVEMENTS ARE YOU PROUD OF? Over the last 12 months, personal achievements known to your family, close friends or co-workers such as: running a marathon or important race, birth, successful kids, new house or major renovation, major success at work, opening a new business, ...',\n",
    "     'DONATION' : '[Between 0 and 5] HOW MANY TIMES DO YOU DONATE YOUR TIME OR MONEY TO GOOD CAUSES? Over a period of 12 months. Include financial donation, your time contribution, fundraising, volunteering, serving your country and the poor, ...',\n",
    "     'BMI_RANGE' : '[1 if below 25, else 2] WHAT IS YOUR BODY MASS INDEX (BMI) RANGE? Your body mass in kg divided by the square of your height in meters ► Check the online BMI calculator such as www.cdc.gov/healthyweight/assessing/bmi/index.html. ► For instance, an adult of 6 feet and 184 pounds has a BMI of 25',\n",
    "     'TODO_COMPLETED' : '[Between 1 and 10] HOW WELL DO YOU COMPLETE YOUR WEEKLY TO-DO LISTS? Include your weekly goals, work- and personal-related tasks. On a scale of 0 = not at all to 10 = very well.',\n",
    "     'FLOW' : '[Between 0 and 10] IN A TYPICAL DAY, HOW MANY HOURS DO YOU EXPERIENCE \"FLOW\"? `Flow` is defined as the mental state, in which you are fully immersed in performing an activity. You then experience a feeling of energized focus, full involvement, and enjoyment in the process of this activity',\n",
    "     'DAILY_STEPS' : '[Between 0 and 10] HOW MANY STEPS (IN THOUSANDS) DO YOU TYPICALLY WALK EVERYDAY? Thousand steps, daily average over multiple days including work days and week-end.',\n",
    "     'LIVE_VISION' : '[Between 0 and 10] FOR HOW MANY YEARS AHEAD IS YOUR LIFE VISION VERY CLEAR FOR? For instance, illustrated in a vision board, detailed in a personal journal or openly discussed with your spouse or close friends.',\n",
    "     'SLEEP_HOURS' : '[Between 0 and 10] ABOUT HOW LONG DO YOU TYPICALLY SLEEP? Over the course of a typical working week, including week-end.',\n",
    "     'LOST_VACATION' : '[Between 0 and 10] HOW MANY DAYS OF VACATION DO YOU TYPICALLY LOSE EVERY YEAR ? Unused vacation days, lost or carried forward into the following year. Or because of work stress during your vacation.',\n",
    "     'DAILY_SHOUTING' : '[Between 0 and 10] HOW OFTEN DO YOU SHOUT OR SULK AT SOMEBODY? In a typical week. Expressing your negative emotions in an active or passive manner.',\n",
    "     'SUFFICIENT_INCOME' : '[1 for insufficient, 2 for sufficient] HOW SUFFICIENT IS YOUR INCOME TO COVER BASIC LIFE EXPENSES? Such as the costs of housing, food, health care, car and education.',\n",
    "     'PERSONAL_AWARDS' : '[Between 0 and 10] HOW MANY RECOGNITIONS HAVE YOU RECEIVED IN YOUR LIFE? Significant public recognitions validating a personal level of expertise and engagement E.g.: diploma, degree, certificate, accreditation, award, prize, published book, presentation at major conference, medals, cups, titles...',\n",
    "     'TIME_FOR_PASSION' : '[Between 0 and 10] HOW MANY HOURS DO YOU SPEND EVERYDAY DOING WHAT YOU ARE PASSIONATE ABOUT? Daily hours spent doing what you are passionate and dreaming about, and/or contributing to a greater cause: health, education, peace, society development, ...',\n",
    "     'WEEKLY_MEDITATION' : '[Between 0 and 10] IN A TYPICAL WEEK, HOW MANY TIMES DO YOU HAVE THE OPPORTUNITY TO THINK ABOUT YOURSELF? Include meditation, praying and relaxation activities such as fitness, walking in a park or lunch breaks.',\n",
    "     'AGE' : \"[1 = 'Less than 20' 2 = '21 to 35' 3 = '36 to 50' 4 = '51 or more']\",\n",
    "     'GENDER' : \"[1 = 'Female' 0 = 'Male']\"\n",
    " }"
   ]
  },
  {
   "cell_type": "code",
   "execution_count": 17,
   "metadata": {
    "execution": {
     "iopub.execute_input": "2021-03-15T10:10:51.615450Z",
     "iopub.status.busy": "2021-03-15T10:10:51.614391Z",
     "iopub.status.idle": "2021-03-15T10:10:51.628023Z",
     "shell.execute_reply": "2021-03-15T10:10:51.627350Z"
    },
    "papermill": {
     "duration": 0.132913,
     "end_time": "2021-03-15T10:10:51.628204",
     "exception": false,
     "start_time": "2021-03-15T10:10:51.495291",
     "status": "completed"
    },
    "tags": []
   },
   "outputs": [
    {
     "data": {
      "text/plain": [
       "{'FRUITS_VEGGIES': (2.9226723436228164, 1.4427392618232717),\n",
       " 'DAILY_STRESS': (2.7916849289336922, 1.3678007467520172),\n",
       " 'PLACES_VISITED': (5.233235238870453, 3.3118466202433825),\n",
       " 'CORE_CIRCLE': (5.508296287020224, 2.8402868211101433),\n",
       " 'SUPPORTING_OTHERS': (5.616179325026611, 3.2419369588232674),\n",
       " 'SOCIAL_NETWORK': (6.474046709661261, 3.08664272775673),\n",
       " 'ACHIEVEMENT': (4.000688748356396, 2.7559123263254053),\n",
       " 'DONATION': (2.715171247886795, 1.851556132858851),\n",
       " 'BMI_RANGE': (1.410619247385887, 0.491961619609354),\n",
       " 'TODO_COMPLETED': (5.745977083463778, 2.6241786624245114),\n",
       " 'FLOW': (3.194477490451443, 2.3572846752920262),\n",
       " 'DAILY_STEPS': (5.703587752801954, 2.8911020666495197),\n",
       " 'LIVE_VISION': (3.7521758186713416, 3.2310825267930916),\n",
       " 'SLEEP_HOURS': (7.042952852044331, 1.199053434423808),\n",
       " 'LOST_VACATION': (2.8984409241750675, 3.6918674791997406),\n",
       " 'DAILY_SHOUTING': (2.930999937386513, 2.6763413227911825),\n",
       " 'SUFFICIENT_INCOME': (1.7289462150147141, 0.4445177193376449),\n",
       " 'PERSONAL_AWARDS': (5.711289211696199, 3.0895399360748805),\n",
       " 'TIME_FOR_PASSION': (3.3262788804708534, 2.729127663833442),\n",
       " 'WEEKLY_MEDITATION': (6.233610919792123, 3.0164794474060197),\n",
       " 'AGE': (2.602091290463966, 0.9444260282900208),\n",
       " 'GENDER': (0.6172437543046773, 0.48607478404407434),\n",
       " 'WORK_LIFE_BALANCE_SCORE': (666.75051029992, 45.0211030065477)}"
      ]
     },
     "execution_count": 17,
     "metadata": {},
     "output_type": "execute_result"
    }
   ],
   "source": [
    "wellbeing_stats = {}\n",
    "\n",
    "for col in wellbeing.columns:\n",
    "    wellbeing_stats[col] = (wellbeing[col].mean(), wellbeing[col].std())\n",
    "wellbeing_stats"
   ]
  },
  {
   "cell_type": "markdown",
   "metadata": {
    "papermill": {
     "duration": 0.114019,
     "end_time": "2021-03-15T10:10:51.855770",
     "exception": false,
     "start_time": "2021-03-15T10:10:51.741751",
     "status": "completed"
    },
    "tags": []
   },
   "source": [
    "### User input:\n",
    "When the cell below is run it will prompt the user to fill in values for each of the survey questions. By filling these in we can later make predictions on the level of stress and achievement the use has, and where they can improve. "
   ]
  },
  {
   "cell_type": "code",
   "execution_count": 18,
   "metadata": {
    "execution": {
     "iopub.execute_input": "2021-03-15T10:10:52.097109Z",
     "iopub.status.busy": "2021-03-15T10:10:52.096065Z",
     "iopub.status.idle": "2021-03-15T10:10:52.103214Z",
     "shell.execute_reply": "2021-03-15T10:10:52.102399Z"
    },
    "papermill": {
     "duration": 0.128512,
     "end_time": "2021-03-15T10:10:52.103443",
     "exception": false,
     "start_time": "2021-03-15T10:10:51.974931",
     "status": "completed"
    },
    "tags": []
   },
   "outputs": [
    {
     "name": "stdout",
     "output_type": "stream",
     "text": [
      "[Between 1 and 5] HOW MANY FRUITS OR VEGETABLES DO YOU EAT EVERYDAY? In a typical day, averaging workdays and weekends.\n",
      "[Between 0 and 10] HOW MANY NEW PLACES DO YOU VISIT? Over a period of 12 months. Include new states, new cities as well as museum, places of interest and parks in your neighborhood.\n",
      "[Between 0 and 10] HOW MANY PEOPLE ARE VERY CLOSE TO YOU? i.e. close family and friends ready to provide you with a long-term unconditional support.\n",
      "[Between 0 and 10] HOW MANY PEOPLE DO YOU HELP ACHIEVE A BETTER LIFE? A reflection of your altruism or selflessness  e.g.: caring for your family, actively supporting a friend, mentoring, coaching, developing or promoting a co-worker, ... Over a period of 12 months.\n",
      "[Between 0 and 10] WITH HOW MANY PEOPLE DO YOU INTERACT WITH DURING A TYPICAL DAY? True interactions and dialogues at home, at work, at the gym, ... Average of workdays and weekends\n",
      "[Between 0 and 5] HOW MANY TIMES DO YOU DONATE YOUR TIME OR MONEY TO GOOD CAUSES? Over a period of 12 months. Include financial donation, your time contribution, fundraising, volunteering, serving your country and the poor, ...\n",
      "[Between 1 and 10] HOW WELL DO YOU COMPLETE YOUR WEEKLY TO-DO LISTS? Include your weekly goals, work- and personal-related tasks. On a scale of 0 = not at all to 10 = very well.\n",
      "[Between 0 and 10] IN A TYPICAL DAY, HOW MANY HOURS DO YOU EXPERIENCE \"FLOW\"? `Flow` is defined as the mental state, in which you are fully immersed in performing an activity. You then experience a feeling of energized focus, full involvement, and enjoyment in the process of this activity\n",
      "[Between 0 and 10] HOW MANY STEPS (IN THOUSANDS) DO YOU TYPICALLY WALK EVERYDAY? Thousand steps, daily average over multiple days including work days and week-end.\n",
      "[Between 0 and 10] FOR HOW MANY YEARS AHEAD IS YOUR LIFE VISION VERY CLEAR FOR? For instance, illustrated in a vision board, detailed in a personal journal or openly discussed with your spouse or close friends.\n",
      "[Between 0 and 10] ABOUT HOW LONG DO YOU TYPICALLY SLEEP? Over the course of a typical working week, including week-end.\n",
      "[Between 0 and 10] HOW MANY DAYS OF VACATION DO YOU TYPICALLY LOSE EVERY YEAR ? Unused vacation days, lost or carried forward into the following year. Or because of work stress during your vacation.\n",
      "[Between 0 and 10] HOW OFTEN DO YOU SHOUT OR SULK AT SOMEBODY? In a typical week. Expressing your negative emotions in an active or passive manner.\n",
      "[Between 0 and 10] HOW MANY RECOGNITIONS HAVE YOU RECEIVED IN YOUR LIFE? Significant public recognitions validating a personal level of expertise and engagement E.g.: diploma, degree, certificate, accreditation, award, prize, published book, presentation at major conference, medals, cups, titles...\n",
      "[Between 0 and 10] HOW MANY HOURS DO YOU SPEND EVERYDAY DOING WHAT YOU ARE PASSIONATE ABOUT? Daily hours spent doing what you are passionate and dreaming about, and/or contributing to a greater cause: health, education, peace, society development, ...\n",
      "[Between 0 and 10] IN A TYPICAL WEEK, HOW MANY TIMES DO YOU HAVE THE OPPORTUNITY TO THINK ABOUT YOURSELF? Include meditation, praying and relaxation activities such as fitness, walking in a park or lunch breaks.\n",
      "[1 = 'Less than 20' 2 = '21 to 35' 3 = '36 to 50' 4 = '51 or more']\n"
     ]
    }
   ],
   "source": [
    "list_pred = []\n",
    "\n",
    "for col in X.columns:\n",
    "    print(wellbeing_dict[col])\n",
    "    try:\n",
    "        list_pred.append(int(input()))\n",
    "    except:\n",
    "        list_pred.append(3)"
   ]
  },
  {
   "cell_type": "markdown",
   "metadata": {
    "papermill": {
     "duration": 0.115291,
     "end_time": "2021-03-15T10:10:52.335688",
     "exception": false,
     "start_time": "2021-03-15T10:10:52.220397",
     "status": "completed"
    },
    "tags": []
   },
   "source": [
    "### prediction batch:\n",
    "Below I generate several additional sets of input records. Each record is a copy of the users input with one entry being one unit different. This way we can run inference on the whole set and see the impact small adjustments can make in quality of life."
   ]
  },
  {
   "cell_type": "code",
   "execution_count": 19,
   "metadata": {
    "execution": {
     "iopub.execute_input": "2021-03-15T10:10:52.576861Z",
     "iopub.status.busy": "2021-03-15T10:10:52.575777Z",
     "iopub.status.idle": "2021-03-15T10:10:52.578906Z",
     "shell.execute_reply": "2021-03-15T10:10:52.579447Z"
    },
    "papermill": {
     "duration": 0.128387,
     "end_time": "2021-03-15T10:10:52.579654",
     "exception": false,
     "start_time": "2021-03-15T10:10:52.451267",
     "status": "completed"
    },
    "tags": []
   },
   "outputs": [],
   "source": [
    "pred_dict = {}\n",
    "pred_dict['Actual'] = list_pred\n",
    "idx = 0\n",
    "for num in list_pred:\n",
    "    if num < 10:\n",
    "        plus_1 = list_pred.copy()\n",
    "        plus_1[idx] = num + 1\n",
    "        label = str(X.columns[idx]) + ' plus 1'\n",
    "        pred_dict[label] = plus_1\n",
    "    if num > 0:\n",
    "        minus_1 = list_pred.copy()\n",
    "        minus_1[idx] = num - 1\n",
    "        label = str(X.columns[idx]) + ' minus 1'\n",
    "        pred_dict[label] = minus_1\n",
    "    idx+=1\n",
    "\n",
    "personal_preds_batch = pd.DataFrame.from_dict(pred_dict, orient='index', columns = X.columns)"
   ]
  },
  {
   "cell_type": "code",
   "execution_count": 20,
   "metadata": {
    "execution": {
     "iopub.execute_input": "2021-03-15T10:10:52.829306Z",
     "iopub.status.busy": "2021-03-15T10:10:52.828549Z",
     "iopub.status.idle": "2021-03-15T10:10:52.834634Z",
     "shell.execute_reply": "2021-03-15T10:10:52.833903Z"
    },
    "papermill": {
     "duration": 0.141195,
     "end_time": "2021-03-15T10:10:52.834794",
     "exception": false,
     "start_time": "2021-03-15T10:10:52.693599",
     "status": "completed"
    },
    "tags": []
   },
   "outputs": [],
   "source": [
    "# Feature scaling, using the stats dictionary\n",
    "personal_preds_batch_preprocessed = personal_preds_batch.copy()\n",
    "for col in X.columns:\n",
    "    personal_preds_batch_preprocessed[col] = (personal_preds_batch_preprocessed[col]-wellbeing_stats[col][0])/wellbeing_stats[col][1]"
   ]
  },
  {
   "cell_type": "markdown",
   "metadata": {
    "papermill": {
     "duration": 0.114986,
     "end_time": "2021-03-15T10:10:53.066674",
     "exception": false,
     "start_time": "2021-03-15T10:10:52.951688",
     "status": "completed"
    },
    "tags": []
   },
   "source": [
    "Below you can see your results based on your input. The 'Actual' row refers to the predictions based on your input, each of the following rows represent what those predictions would have been should you have entered a slightly different value (with the row names explaining the change. A color gradient is applied to make the differences more noticable."
   ]
  },
  {
   "cell_type": "code",
   "execution_count": 21,
   "metadata": {
    "execution": {
     "iopub.execute_input": "2021-03-15T10:10:53.303121Z",
     "iopub.status.busy": "2021-03-15T10:10:53.302257Z",
     "iopub.status.idle": "2021-03-15T10:10:53.723519Z",
     "shell.execute_reply": "2021-03-15T10:10:53.722863Z"
    },
    "papermill": {
     "duration": 0.542223,
     "end_time": "2021-03-15T10:10:53.723718",
     "exception": false,
     "start_time": "2021-03-15T10:10:53.181495",
     "status": "completed"
    },
    "tags": []
   },
   "outputs": [
    {
     "data": {
      "text/html": [
       "<style  type=\"text/css\" >\n",
       "#T_5f747_row0_col0,#T_5f747_row0_col1{\n",
       "            background-color:  #73a9cf;\n",
       "            color:  #000000;\n",
       "        }#T_5f747_row1_col0{\n",
       "            background-color:  #056caa;\n",
       "            color:  #f1f1f1;\n",
       "        }#T_5f747_row1_col1{\n",
       "            background-color:  #0567a2;\n",
       "            color:  #f1f1f1;\n",
       "        }#T_5f747_row2_col0{\n",
       "            background-color:  #d5d5e8;\n",
       "            color:  #000000;\n",
       "        }#T_5f747_row2_col1{\n",
       "            background-color:  #e9e5f1;\n",
       "            color:  #000000;\n",
       "        }#T_5f747_row3_col0,#T_5f747_row4_col1{\n",
       "            background-color:  #7eadd1;\n",
       "            color:  #000000;\n",
       "        }#T_5f747_row3_col1,#T_5f747_row4_col0{\n",
       "            background-color:  #67a4cc;\n",
       "            color:  #000000;\n",
       "        }#T_5f747_row5_col0{\n",
       "            background-color:  #a5bddb;\n",
       "            color:  #000000;\n",
       "        }#T_5f747_row5_col1{\n",
       "            background-color:  #308cbe;\n",
       "            color:  #000000;\n",
       "        }#T_5f747_row6_col0{\n",
       "            background-color:  #3790c0;\n",
       "            color:  #000000;\n",
       "        }#T_5f747_row6_col1{\n",
       "            background-color:  #abbfdc;\n",
       "            color:  #000000;\n",
       "        }#T_5f747_row7_col0,#T_5f747_row32_col0{\n",
       "            background-color:  #0d75b3;\n",
       "            color:  #f1f1f1;\n",
       "        }#T_5f747_row7_col1{\n",
       "            background-color:  #2081b9;\n",
       "            color:  #000000;\n",
       "        }#T_5f747_row8_col0{\n",
       "            background-color:  #c9cee4;\n",
       "            color:  #000000;\n",
       "        }#T_5f747_row8_col1{\n",
       "            background-color:  #b9c6e0;\n",
       "            color:  #000000;\n",
       "        }#T_5f747_row9_col0,#T_5f747_row12_col0,#T_5f747_row26_col1{\n",
       "            background-color:  #79abd0;\n",
       "            color:  #000000;\n",
       "        }#T_5f747_row9_col1{\n",
       "            background-color:  #65a3cb;\n",
       "            color:  #000000;\n",
       "        }#T_5f747_row10_col0,#T_5f747_row25_col1{\n",
       "            background-color:  #6da6cd;\n",
       "            color:  #000000;\n",
       "        }#T_5f747_row10_col1{\n",
       "            background-color:  #80aed2;\n",
       "            color:  #000000;\n",
       "        }#T_5f747_row11_col0{\n",
       "            background-color:  #0a73b2;\n",
       "            color:  #f1f1f1;\n",
       "        }#T_5f747_row11_col1{\n",
       "            background-color:  #5ea0ca;\n",
       "            color:  #000000;\n",
       "        }#T_5f747_row12_col1{\n",
       "            background-color:  #97b7d7;\n",
       "            color:  #000000;\n",
       "        }#T_5f747_row13_col0{\n",
       "            background-color:  #9ebad9;\n",
       "            color:  #000000;\n",
       "        }#T_5f747_row13_col1{\n",
       "            background-color:  #1e80b8;\n",
       "            color:  #000000;\n",
       "        }#T_5f747_row14_col0{\n",
       "            background-color:  #4094c3;\n",
       "            color:  #000000;\n",
       "        }#T_5f747_row14_col1{\n",
       "            background-color:  #bbc7e0;\n",
       "            color:  #000000;\n",
       "        }#T_5f747_row15_col0{\n",
       "            background-color:  #5a9ec9;\n",
       "            color:  #000000;\n",
       "        }#T_5f747_row15_col1,#T_5f747_row25_col0{\n",
       "            background-color:  #023858;\n",
       "            color:  #f1f1f1;\n",
       "        }#T_5f747_row16_col0{\n",
       "            background-color:  #89b1d4;\n",
       "            color:  #000000;\n",
       "        }#T_5f747_row16_col1,#T_5f747_row26_col0{\n",
       "            background-color:  #fff7fb;\n",
       "            color:  #000000;\n",
       "        }#T_5f747_row17_col0{\n",
       "            background-color:  #2987bc;\n",
       "            color:  #000000;\n",
       "        }#T_5f747_row17_col1,#T_5f747_row20_col0{\n",
       "            background-color:  #2484ba;\n",
       "            color:  #000000;\n",
       "        }#T_5f747_row18_col0,#T_5f747_row33_col0{\n",
       "            background-color:  #b1c2de;\n",
       "            color:  #000000;\n",
       "        }#T_5f747_row18_col1,#T_5f747_row19_col0{\n",
       "            background-color:  #b5c4df;\n",
       "            color:  #000000;\n",
       "        }#T_5f747_row19_col1{\n",
       "            background-color:  #034f7d;\n",
       "            color:  #f1f1f1;\n",
       "        }#T_5f747_row20_col1,#T_5f747_row33_col1{\n",
       "            background-color:  #f2ecf5;\n",
       "            color:  #000000;\n",
       "        }#T_5f747_row21_col0{\n",
       "            background-color:  #c2cbe2;\n",
       "            color:  #000000;\n",
       "        }#T_5f747_row21_col1{\n",
       "            background-color:  #569dc8;\n",
       "            color:  #000000;\n",
       "        }#T_5f747_row22_col0{\n",
       "            background-color:  #157ab5;\n",
       "            color:  #000000;\n",
       "        }#T_5f747_row22_col1{\n",
       "            background-color:  #8cb3d5;\n",
       "            color:  #000000;\n",
       "        }#T_5f747_row23_col0{\n",
       "            background-color:  #6ba5cd;\n",
       "            color:  #000000;\n",
       "        }#T_5f747_row23_col1{\n",
       "            background-color:  #63a2cb;\n",
       "            color:  #000000;\n",
       "        }#T_5f747_row24_col0{\n",
       "            background-color:  #7bacd1;\n",
       "            color:  #000000;\n",
       "        }#T_5f747_row24_col1{\n",
       "            background-color:  #81aed2;\n",
       "            color:  #000000;\n",
       "        }#T_5f747_row27_col0{\n",
       "            background-color:  #4697c4;\n",
       "            color:  #000000;\n",
       "        }#T_5f747_row27_col1{\n",
       "            background-color:  #034973;\n",
       "            color:  #f1f1f1;\n",
       "        }#T_5f747_row28_col0{\n",
       "            background-color:  #99b8d8;\n",
       "            color:  #000000;\n",
       "        }#T_5f747_row28_col1{\n",
       "            background-color:  #f5eff6;\n",
       "            color:  #000000;\n",
       "        }#T_5f747_row29_col0,#T_5f747_row32_col1{\n",
       "            background-color:  #91b5d6;\n",
       "            color:  #000000;\n",
       "        }#T_5f747_row29_col1{\n",
       "            background-color:  #04629a;\n",
       "            color:  #f1f1f1;\n",
       "        }#T_5f747_row30_col0{\n",
       "            background-color:  #2d8abd;\n",
       "            color:  #000000;\n",
       "        }#T_5f747_row30_col1{\n",
       "            background-color:  #e5e1ef;\n",
       "            color:  #000000;\n",
       "        }#T_5f747_row31_col0{\n",
       "            background-color:  #c0c9e2;\n",
       "            color:  #000000;\n",
       "        }#T_5f747_row31_col1{\n",
       "            background-color:  #529bc7;\n",
       "            color:  #000000;\n",
       "        }#T_5f747_row34_col0{\n",
       "            background-color:  #045280;\n",
       "            color:  #f1f1f1;\n",
       "        }#T_5f747_row34_col1{\n",
       "            background-color:  #045585;\n",
       "            color:  #f1f1f1;\n",
       "        }</style><table id=\"T_5f747_\" ><thead>    <tr>        <th class=\"blank level0\" ></th>        <th class=\"col_heading level0 col0\" >DAILY_STRESS</th>        <th class=\"col_heading level0 col1\" >ACHIEVEMENT</th>    </tr></thead><tbody>\n",
       "                <tr>\n",
       "                        <th id=\"T_5f747_level0_row0\" class=\"row_heading level0 row0\" >Actual</th>\n",
       "                        <td id=\"T_5f747_row0_col0\" class=\"data row0 col0\" >2.926040</td>\n",
       "                        <td id=\"T_5f747_row0_col1\" class=\"data row0 col1\" >2.613681</td>\n",
       "            </tr>\n",
       "            <tr>\n",
       "                        <th id=\"T_5f747_level0_row1\" class=\"row_heading level0 row1\" >FRUITS_VEGGIES plus 1</th>\n",
       "                        <td id=\"T_5f747_row1_col0\" class=\"data row1 col0\" >3.004813</td>\n",
       "                        <td id=\"T_5f747_row1_col1\" class=\"data row1 col1\" >2.752305</td>\n",
       "            </tr>\n",
       "            <tr>\n",
       "                        <th id=\"T_5f747_level0_row2\" class=\"row_heading level0 row2\" >FRUITS_VEGGIES minus 1</th>\n",
       "                        <td id=\"T_5f747_row2_col0\" class=\"data row2 col0\" >2.847325</td>\n",
       "                        <td id=\"T_5f747_row2_col1\" class=\"data row2 col1\" >2.445579</td>\n",
       "            </tr>\n",
       "            <tr>\n",
       "                        <th id=\"T_5f747_level0_row3\" class=\"row_heading level0 row3\" >PLACES_VISITED plus 1</th>\n",
       "                        <td id=\"T_5f747_row3_col0\" class=\"data row3 col0\" >2.919150</td>\n",
       "                        <td id=\"T_5f747_row3_col1\" class=\"data row3 col1\" >2.624651</td>\n",
       "            </tr>\n",
       "            <tr>\n",
       "                        <th id=\"T_5f747_level0_row4\" class=\"row_heading level0 row4\" >PLACES_VISITED minus 1</th>\n",
       "                        <td id=\"T_5f747_row4_col0\" class=\"data row4 col0\" >2.932931</td>\n",
       "                        <td id=\"T_5f747_row4_col1\" class=\"data row4 col1\" >2.602712</td>\n",
       "            </tr>\n",
       "            <tr>\n",
       "                        <th id=\"T_5f747_level0_row5\" class=\"row_heading level0 row5\" >CORE_CIRCLE plus 1</th>\n",
       "                        <td id=\"T_5f747_row5_col0\" class=\"data row5 col0\" >2.889912</td>\n",
       "                        <td id=\"T_5f747_row5_col1\" class=\"data row5 col1\" >2.678965</td>\n",
       "            </tr>\n",
       "            <tr>\n",
       "                        <th id=\"T_5f747_level0_row6\" class=\"row_heading level0 row6\" >CORE_CIRCLE minus 1</th>\n",
       "                        <td id=\"T_5f747_row6_col0\" class=\"data row6 col0\" >2.962168</td>\n",
       "                        <td id=\"T_5f747_row6_col1\" class=\"data row6 col1\" >2.548398</td>\n",
       "            </tr>\n",
       "            <tr>\n",
       "                        <th id=\"T_5f747_level0_row7\" class=\"row_heading level0 row7\" >SUPPORTING_OTHERS plus 1</th>\n",
       "                        <td id=\"T_5f747_row7_col0\" class=\"data row7 col0\" >2.992249</td>\n",
       "                        <td id=\"T_5f747_row7_col1\" class=\"data row7 col1\" >2.698792</td>\n",
       "            </tr>\n",
       "            <tr>\n",
       "                        <th id=\"T_5f747_level0_row8\" class=\"row_heading level0 row8\" >SUPPORTING_OTHERS minus 1</th>\n",
       "                        <td id=\"T_5f747_row8_col0\" class=\"data row8 col0\" >2.859831</td>\n",
       "                        <td id=\"T_5f747_row8_col1\" class=\"data row8 col1\" >2.528571</td>\n",
       "            </tr>\n",
       "            <tr>\n",
       "                        <th id=\"T_5f747_level0_row9\" class=\"row_heading level0 row9\" >SOCIAL_NETWORK plus 1</th>\n",
       "                        <td id=\"T_5f747_row9_col0\" class=\"data row9 col0\" >2.921735</td>\n",
       "                        <td id=\"T_5f747_row9_col1\" class=\"data row9 col1\" >2.626786</td>\n",
       "            </tr>\n",
       "            <tr>\n",
       "                        <th id=\"T_5f747_level0_row10\" class=\"row_heading level0 row10\" >SOCIAL_NETWORK minus 1</th>\n",
       "                        <td id=\"T_5f747_row10_col0\" class=\"data row10 col0\" >2.930345</td>\n",
       "                        <td id=\"T_5f747_row10_col1\" class=\"data row10 col1\" >2.600577</td>\n",
       "            </tr>\n",
       "            <tr>\n",
       "                        <th id=\"T_5f747_level0_row11\" class=\"row_heading level0 row11\" >DONATION plus 1</th>\n",
       "                        <td id=\"T_5f747_row11_col0\" class=\"data row11 col0\" >2.994911</td>\n",
       "                        <td id=\"T_5f747_row11_col1\" class=\"data row11 col1\" >2.633972</td>\n",
       "            </tr>\n",
       "            <tr>\n",
       "                        <th id=\"T_5f747_level0_row12\" class=\"row_heading level0 row12\" >DONATION minus 1</th>\n",
       "                        <td id=\"T_5f747_row12_col0\" class=\"data row12 col0\" >2.921750</td>\n",
       "                        <td id=\"T_5f747_row12_col1\" class=\"data row12 col1\" >2.573426</td>\n",
       "            </tr>\n",
       "            <tr>\n",
       "                        <th id=\"T_5f747_level0_row13\" class=\"row_heading level0 row13\" >TODO_COMPLETED plus 1</th>\n",
       "                        <td id=\"T_5f747_row13_col0\" class=\"data row13 col0\" >2.895856</td>\n",
       "                        <td id=\"T_5f747_row13_col1\" class=\"data row13 col1\" >2.700521</td>\n",
       "            </tr>\n",
       "            <tr>\n",
       "                        <th id=\"T_5f747_level0_row14\" class=\"row_heading level0 row14\" >TODO_COMPLETED minus 1</th>\n",
       "                        <td id=\"T_5f747_row14_col0\" class=\"data row14 col0\" >2.956224</td>\n",
       "                        <td id=\"T_5f747_row14_col1\" class=\"data row14 col1\" >2.526842</td>\n",
       "            </tr>\n",
       "            <tr>\n",
       "                        <th id=\"T_5f747_level0_row15\" class=\"row_heading level0 row15\" >FLOW plus 1</th>\n",
       "                        <td id=\"T_5f747_row15_col0\" class=\"data row15 col0\" >2.941088</td>\n",
       "                        <td id=\"T_5f747_row15_col1\" class=\"data row15 col1\" >2.847104</td>\n",
       "            </tr>\n",
       "            <tr>\n",
       "                        <th id=\"T_5f747_level0_row16\" class=\"row_heading level0 row16\" >FLOW minus 1</th>\n",
       "                        <td id=\"T_5f747_row16_col0\" class=\"data row16 col0\" >2.910993</td>\n",
       "                        <td id=\"T_5f747_row16_col1\" class=\"data row16 col1\" >2.380259</td>\n",
       "            </tr>\n",
       "            <tr>\n",
       "                        <th id=\"T_5f747_level0_row17\" class=\"row_heading level0 row17\" >DAILY_STEPS plus 1</th>\n",
       "                        <td id=\"T_5f747_row17_col0\" class=\"data row17 col0\" >2.972282</td>\n",
       "                        <td id=\"T_5f747_row17_col1\" class=\"data row17 col1\" >2.693364</td>\n",
       "            </tr>\n",
       "            <tr>\n",
       "                        <th id=\"T_5f747_level0_row18\" class=\"row_heading level0 row18\" >DAILY_STEPS minus 1</th>\n",
       "                        <td id=\"T_5f747_row18_col0\" class=\"data row18 col0\" >2.879798</td>\n",
       "                        <td id=\"T_5f747_row18_col1\" class=\"data row18 col1\" >2.533999</td>\n",
       "            </tr>\n",
       "            <tr>\n",
       "                        <th id=\"T_5f747_level0_row19\" class=\"row_heading level0 row19\" >LIVE_VISION plus 1</th>\n",
       "                        <td id=\"T_5f747_row19_col0\" class=\"data row19 col0\" >2.876073</td>\n",
       "                        <td id=\"T_5f747_row19_col1\" class=\"data row19 col1\" >2.805389</td>\n",
       "            </tr>\n",
       "            <tr>\n",
       "                        <th id=\"T_5f747_level0_row20\" class=\"row_heading level0 row20\" >LIVE_VISION minus 1</th>\n",
       "                        <td id=\"T_5f747_row20_col0\" class=\"data row20 col0\" >2.975893</td>\n",
       "                        <td id=\"T_5f747_row20_col1\" class=\"data row20 col1\" >2.421447</td>\n",
       "            </tr>\n",
       "            <tr>\n",
       "                        <th id=\"T_5f747_level0_row21\" class=\"row_heading level0 row21\" >SLEEP_HOURS plus 1</th>\n",
       "                        <td id=\"T_5f747_row21_col0\" class=\"data row21 col0\" >2.864818</td>\n",
       "                        <td id=\"T_5f747_row21_col1\" class=\"data row21 col1\" >2.641112</td>\n",
       "            </tr>\n",
       "            <tr>\n",
       "                        <th id=\"T_5f747_level0_row22\" class=\"row_heading level0 row22\" >SLEEP_HOURS minus 1</th>\n",
       "                        <td id=\"T_5f747_row22_col0\" class=\"data row22 col0\" >2.987262</td>\n",
       "                        <td id=\"T_5f747_row22_col1\" class=\"data row22 col1\" >2.586251</td>\n",
       "            </tr>\n",
       "            <tr>\n",
       "                        <th id=\"T_5f747_level0_row23\" class=\"row_heading level0 row23\" >LOST_VACATION plus 1</th>\n",
       "                        <td id=\"T_5f747_row23_col0\" class=\"data row23 col0\" >2.931173</td>\n",
       "                        <td id=\"T_5f747_row23_col1\" class=\"data row23 col1\" >2.628299</td>\n",
       "            </tr>\n",
       "            <tr>\n",
       "                        <th id=\"T_5f747_level0_row24\" class=\"row_heading level0 row24\" >LOST_VACATION minus 1</th>\n",
       "                        <td id=\"T_5f747_row24_col0\" class=\"data row24 col0\" >2.920907</td>\n",
       "                        <td id=\"T_5f747_row24_col1\" class=\"data row24 col1\" >2.599063</td>\n",
       "            </tr>\n",
       "            <tr>\n",
       "                        <th id=\"T_5f747_level0_row25\" class=\"row_heading level0 row25\" >DAILY_SHOUTING plus 1</th>\n",
       "                        <td id=\"T_5f747_row25_col0\" class=\"data row25 col0\" >3.071584</td>\n",
       "                        <td id=\"T_5f747_row25_col1\" class=\"data row25 col1\" >2.619213</td>\n",
       "            </tr>\n",
       "            <tr>\n",
       "                        <th id=\"T_5f747_level0_row26\" class=\"row_heading level0 row26\" >DAILY_SHOUTING minus 1</th>\n",
       "                        <td id=\"T_5f747_row26_col0\" class=\"data row26 col0\" >2.780496</td>\n",
       "                        <td id=\"T_5f747_row26_col1\" class=\"data row26 col1\" >2.608151</td>\n",
       "            </tr>\n",
       "            <tr>\n",
       "                        <th id=\"T_5f747_level0_row27\" class=\"row_heading level0 row27\" >PERSONAL_AWARDS plus 1</th>\n",
       "                        <td id=\"T_5f747_row27_col0\" class=\"data row27 col0\" >2.953257</td>\n",
       "                        <td id=\"T_5f747_row27_col1\" class=\"data row27 col1\" >2.816767</td>\n",
       "            </tr>\n",
       "            <tr>\n",
       "                        <th id=\"T_5f747_level0_row28\" class=\"row_heading level0 row28\" >PERSONAL_AWARDS minus 1</th>\n",
       "                        <td id=\"T_5f747_row28_col0\" class=\"data row28 col0\" >2.898823</td>\n",
       "                        <td id=\"T_5f747_row28_col1\" class=\"data row28 col1\" >2.410596</td>\n",
       "            </tr>\n",
       "            <tr>\n",
       "                        <th id=\"T_5f747_level0_row29\" class=\"row_heading level0 row29\" >TIME_FOR_PASSION plus 1</th>\n",
       "                        <td id=\"T_5f747_row29_col0\" class=\"data row29 col0\" >2.905218</td>\n",
       "                        <td id=\"T_5f747_row29_col1\" class=\"data row29 col1\" >2.766360</td>\n",
       "            </tr>\n",
       "            <tr>\n",
       "                        <th id=\"T_5f747_level0_row30\" class=\"row_heading level0 row30\" >TIME_FOR_PASSION minus 1</th>\n",
       "                        <td id=\"T_5f747_row30_col0\" class=\"data row30 col0\" >2.968301</td>\n",
       "                        <td id=\"T_5f747_row30_col1\" class=\"data row30 col1\" >2.454376</td>\n",
       "            </tr>\n",
       "            <tr>\n",
       "                        <th id=\"T_5f747_level0_row31\" class=\"row_heading level0 row31\" >WEEKLY_MEDITATION plus 1</th>\n",
       "                        <td id=\"T_5f747_row31_col0\" class=\"data row31 col0\" >2.866940</td>\n",
       "                        <td id=\"T_5f747_row31_col1\" class=\"data row31 col1\" >2.644765</td>\n",
       "            </tr>\n",
       "            <tr>\n",
       "                        <th id=\"T_5f747_level0_row32\" class=\"row_heading level0 row32\" >WEEKLY_MEDITATION minus 1</th>\n",
       "                        <td id=\"T_5f747_row32_col0\" class=\"data row32 col0\" >2.992429</td>\n",
       "                        <td id=\"T_5f747_row32_col1\" class=\"data row32 col1\" >2.580344</td>\n",
       "            </tr>\n",
       "            <tr>\n",
       "                        <th id=\"T_5f747_level0_row33\" class=\"row_heading level0 row33\" >AGE plus 1</th>\n",
       "                        <td id=\"T_5f747_row33_col0\" class=\"data row33 col0\" >2.879643</td>\n",
       "                        <td id=\"T_5f747_row33_col1\" class=\"data row33 col1\" >2.418755</td>\n",
       "            </tr>\n",
       "            <tr>\n",
       "                        <th id=\"T_5f747_level0_row34\" class=\"row_heading level0 row34\" >AGE minus 1</th>\n",
       "                        <td id=\"T_5f747_row34_col0\" class=\"data row34 col0\" >3.043644</td>\n",
       "                        <td id=\"T_5f747_row34_col1\" class=\"data row34 col1\" >2.797733</td>\n",
       "            </tr>\n",
       "    </tbody></table>"
      ],
      "text/plain": [
       "<pandas.io.formats.style.Styler at 0x7f1d6d334a10>"
      ]
     },
     "execution_count": 21,
     "metadata": {},
     "output_type": "execute_result"
    }
   ],
   "source": [
    "personal_preds_batch_preprocessed[['DAILY_STRESS', 'ACHIEVEMENT']] = model.predict(personal_preds_batch_preprocessed)\n",
    "personal_preds_batch_preprocessed[['DAILY_STRESS', 'ACHIEVEMENT']].style.background_gradient()"
   ]
  },
  {
   "cell_type": "markdown",
   "metadata": {
    "papermill": {
     "duration": 0.115764,
     "end_time": "2021-03-15T10:10:53.955242",
     "exception": false,
     "start_time": "2021-03-15T10:10:53.839478",
     "status": "completed"
    },
    "tags": []
   },
   "source": [
    "### Export model\n",
    "Below I save the model which will be loaded in the prediction/prescription notebook and possibly later deployed in a web app."
   ]
  },
  {
   "cell_type": "code",
   "execution_count": 22,
   "metadata": {
    "execution": {
     "iopub.execute_input": "2021-03-15T10:10:54.196299Z",
     "iopub.status.busy": "2021-03-15T10:10:54.195143Z",
     "iopub.status.idle": "2021-03-15T10:10:55.652672Z",
     "shell.execute_reply": "2021-03-15T10:10:55.649406Z"
    },
    "papermill": {
     "duration": 1.58141,
     "end_time": "2021-03-15T10:10:55.652888",
     "exception": false,
     "start_time": "2021-03-15T10:10:54.071478",
     "status": "completed"
    },
    "tags": []
   },
   "outputs": [],
   "source": [
    "model.save('wellbeing_model')"
   ]
  }
 ],
 "metadata": {
  "kernelspec": {
   "display_name": "Python 3",
   "language": "python",
   "name": "python3"
  },
  "language_info": {
   "codemirror_mode": {
    "name": "ipython",
    "version": 3
   },
   "file_extension": ".py",
   "mimetype": "text/x-python",
   "name": "python",
   "nbconvert_exporter": "python",
   "pygments_lexer": "ipython3",
   "version": "3.7.9"
  },
  "papermill": {
   "default_parameters": {},
   "duration": 52.158165,
   "end_time": "2021-03-15T10:10:57.388396",
   "environment_variables": {},
   "exception": null,
   "input_path": "__notebook__.ipynb",
   "output_path": "__notebook__.ipynb",
   "parameters": {},
   "start_time": "2021-03-15T10:10:05.230231",
   "version": "2.2.2"
  }
 },
 "nbformat": 4,
 "nbformat_minor": 4
}
